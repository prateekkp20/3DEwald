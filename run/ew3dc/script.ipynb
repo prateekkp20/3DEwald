{
 "cells": [
  {
   "cell_type": "code",
   "execution_count": 202,
   "metadata": {},
   "outputs": [
    {
     "data": {
      "text/html": [
       "<div>\n",
       "<style scoped>\n",
       "    .dataframe tbody tr th:only-of-type {\n",
       "        vertical-align: middle;\n",
       "    }\n",
       "\n",
       "    .dataframe tbody tr th {\n",
       "        vertical-align: top;\n",
       "    }\n",
       "\n",
       "    .dataframe thead th {\n",
       "        text-align: right;\n",
       "    }\n",
       "</style>\n",
       "<table border=\"1\" class=\"dataframe\">\n",
       "  <thead>\n",
       "    <tr style=\"text-align: right;\">\n",
       "      <th></th>\n",
       "      <th>Lz</th>\n",
       "      <th>Self Energy</th>\n",
       "      <th>Reciprocal Energy</th>\n",
       "      <th>Real Energy</th>\n",
       "      <th>J(M S)</th>\n",
       "      <th>Total</th>\n",
       "      <th>Error(cpp)</th>\n",
       "      <th>Error(lammps)</th>\n",
       "    </tr>\n",
       "  </thead>\n",
       "  <tbody>\n",
       "    <tr>\n",
       "      <th>0</th>\n",
       "      <td>179.9</td>\n",
       "      <td>-4874.01708</td>\n",
       "      <td>1867.23812</td>\n",
       "      <td>-860.8545</td>\n",
       "      <td>445.34994</td>\n",
       "      <td>-3422.28353</td>\n",
       "      <td>318.478967</td>\n",
       "      <td>319.390535</td>\n",
       "    </tr>\n",
       "    <tr>\n",
       "      <th>1</th>\n",
       "      <td>180.0</td>\n",
       "      <td>-4874.01708</td>\n",
       "      <td>1867.33804</td>\n",
       "      <td>-860.8545</td>\n",
       "      <td>445.10250</td>\n",
       "      <td>-3422.43103</td>\n",
       "      <td>317.861785</td>\n",
       "      <td>318.773395</td>\n",
       "    </tr>\n",
       "    <tr>\n",
       "      <th>2</th>\n",
       "      <td>180.1</td>\n",
       "      <td>-4874.01708</td>\n",
       "      <td>1867.43747</td>\n",
       "      <td>-860.8545</td>\n",
       "      <td>444.85535</td>\n",
       "      <td>-3422.57876</td>\n",
       "      <td>317.243683</td>\n",
       "      <td>318.155293</td>\n",
       "    </tr>\n",
       "    <tr>\n",
       "      <th>3</th>\n",
       "      <td>180.2</td>\n",
       "      <td>-4874.01708</td>\n",
       "      <td>1867.53622</td>\n",
       "      <td>-860.8545</td>\n",
       "      <td>444.60850</td>\n",
       "      <td>-3422.72686</td>\n",
       "      <td>316.624074</td>\n",
       "      <td>317.535643</td>\n",
       "    </tr>\n",
       "    <tr>\n",
       "      <th>4</th>\n",
       "      <td>180.3</td>\n",
       "      <td>-4874.01708</td>\n",
       "      <td>1867.63464</td>\n",
       "      <td>-860.8545</td>\n",
       "      <td>444.36189</td>\n",
       "      <td>-3422.87504</td>\n",
       "      <td>316.004048</td>\n",
       "      <td>316.915657</td>\n",
       "    </tr>\n",
       "  </tbody>\n",
       "</table>\n",
       "</div>"
      ],
      "text/plain": [
       "      Lz  Self Energy  Reciprocal Energy  Real Energy     J(M S)       Total  \\\n",
       "0  179.9  -4874.01708         1867.23812    -860.8545  445.34994 -3422.28353   \n",
       "1  180.0  -4874.01708         1867.33804    -860.8545  445.10250 -3422.43103   \n",
       "2  180.1  -4874.01708         1867.43747    -860.8545  444.85535 -3422.57876   \n",
       "3  180.2  -4874.01708         1867.53622    -860.8545  444.60850 -3422.72686   \n",
       "4  180.3  -4874.01708         1867.63464    -860.8545  444.36189 -3422.87504   \n",
       "\n",
       "   Error(cpp)  Error(lammps)  \n",
       "0  318.478967     319.390535  \n",
       "1  317.861785     318.773395  \n",
       "2  317.243683     318.155293  \n",
       "3  316.624074     317.535643  \n",
       "4  316.004048     316.915657  "
      ]
     },
     "execution_count": 202,
     "metadata": {},
     "output_type": "execute_result"
    }
   ],
   "source": [
    "import numpy as np\n",
    "import pandas as pd\n",
    "import matplotlib.pyplot as plt\n",
    "\n",
    "# kcl168_25 = pd.read_csv('kcl168_vary_Lz.csv',index_col=False)\n",
    "kcl200 = pd.read_csv('kcl200.csv',index_col=False)\n",
    "kcl200['Error(cpp)'] = kcl200['Error(cpp)'].apply(lambda x: x*4.184)\n",
    "kcl200['Error(lammps)'] = kcl200['Error(lammps)'].apply(lambda x: x*4.184)\n",
    "kcl168 = pd.read_csv('kcl168.csv',index_col=False)\n",
    "kcl168['Error(cpp)'] = kcl168['Error(cpp)'].apply(lambda x: x*4.184)\n",
    "kcl168['Error(lammps)'] = kcl168['Error(lammps)'].apply(lambda x: x*4.184)\n",
    "# kcl200_50 = pd.read_csv('kcl200_vary_Lz50.csv',index_col=False)\n",
    "# kcl200_35 = pd.read_csv('kcl200_vary_Lz35.csv',index_col=False)\n",
    "# newData25 = pd.read_csv('newData25.csv',index_col=False)\n",
    "# newData35 = pd.read_csv('newData35.csv',index_col=False)\n",
    "# newData50 = pd.read_csv('newData50.csv',index_col=False)\n",
    "kcl200.head()"
   ]
  },
  {
   "cell_type": "code",
   "execution_count": 208,
   "metadata": {},
   "outputs": [
    {
     "data": {
      "text/plain": [
       "Text(0.5,1,'Variation of Error(cpp) in total energy vs Lz for kcl200, BoxSize: 25 ($\\\\AA$)')"
      ]
     },
     "execution_count": 208,
     "metadata": {},
     "output_type": "execute_result"
    },
    {
     "data": {
      "image/png": "[encoded data removed]",
      "text/plain": [
       "<Figure size 432x288 with 1 Axes>"
      ]
     },
     "metadata": {
      "needs_background": "light"
     },
     "output_type": "display_data"
    }
   ],
   "source": [
    "plt.plot('Lz','Error(cpp)',data=kcl200[kcl200['Error(cpp)']<40])\n",
    "plt.grid()\n",
    "plt.xlabel(\"Lz ($\\AA$)\")\n",
    "plt.ylabel(\"Error (kJ/mol)\")\n",
    "plt.title(\"Variation of Error(cpp) in total energy vs Lz for kcl200, BoxSize: 25 ($\\AA$)\")"
   ]
  },
  {
   "cell_type": "code",
   "execution_count": 207,
   "metadata": {},
   "outputs": [
    {
     "data": {
      "text/plain": [
       "Text(0.5,1,'Variation of Error(cpp) in total energy vs Lz for kcl168, BoxSize: 25 ($\\\\AA$)')"
      ]
     },
     "execution_count": 207,
     "metadata": {},
     "output_type": "execute_result"
    },
    {
     "data": {
      "image/png": "[encoded data removed]",
      "text/plain": [
       "<Figure size 432x288 with 1 Axes>"
      ]
     },
     "metadata": {
      "needs_background": "light"
     },
     "output_type": "display_data"
    }
   ],
   "source": [
    "plt.plot('Lz','Error(cpp)',data=kcl168[kcl168['Error(cpp)']<40])\n",
    "plt.grid()\n",
    "plt.xlabel(\"Lz ($\\AA$)\")\n",
    "plt.ylabel(\"Error (kJ/mol)\")\n",
    "plt.title(\"Variation of Error(cpp) in total energy vs Lz for kcl168, BoxSize: 25 ($\\AA$)\")"
   ]
  },
  {
   "cell_type": "code",
   "execution_count": 193,
   "metadata": {},
   "outputs": [],
   "source": [
    "# plt.plot('Lz','Error(lammps)',data=newData25)\n",
    "# plt.grid()\n",
    "# plt.xlabel(\"Lz ($\\AA$)\")\n",
    "# plt.ylabel(\"Error (kcal/mol)\")\n",
    "# plt.title(\"Variation of Error(lammps) in total energy vs Lz for kcl200, BoxSize: 25 ($\\AA$)\")"
   ]
  },
  {
   "cell_type": "code",
   "execution_count": 194,
   "metadata": {},
   "outputs": [],
   "source": [
    "# plt.plot('Lz','Error',data=kcl168_25)\n",
    "# plt.grid()\n",
    "# plt.xlabel(\"Lz ($\\AA$)\")\n",
    "# plt.ylabel(\"Error (kcal/mol)\")\n",
    "# plt.title(\"Variation of Error in total energy vs Lz for kcl168, BoxSize: 25 ($\\AA$)\")"
   ]
  },
  {
   "cell_type": "code",
   "execution_count": 195,
   "metadata": {},
   "outputs": [],
   "source": [
    "# plt.plot('Lz','Error',data=kcl200_25)\n",
    "# plt.grid()\n",
    "# plt.xlabel(\"Lz ($\\AA$)\")\n",
    "# plt.xticks()\n",
    "# plt.ylabel(\"Error (kcal/mol)\")\n",
    "# plt.title(\"Variation of Error in total energy vs Lz for kcl200, BoxSize: 25 ($\\AA$)\")"
   ]
  },
  {
   "cell_type": "code",
   "execution_count": 196,
   "metadata": {},
   "outputs": [],
   "source": [
    "# plt.plot('Lz','Error',data=kcl200_50)\n",
    "# plt.grid()\n",
    "# plt.xlabel(\"Lz ($\\AA$)\")\n",
    "# plt.xticks()\n",
    "# plt.ylabel(\"Error (kcal/mol)\")\n",
    "# plt.title(\"Variation of Error in total energy vs Lz for kcl200, BoxSize: 50 ($\\AA$)\")"
   ]
  },
  {
   "cell_type": "code",
   "execution_count": 197,
   "metadata": {},
   "outputs": [],
   "source": [
    "# plt.plot('Lz','Error(cpp)',data=newData50)\n",
    "# plt.grid()\n",
    "# plt.xlabel(\"Lz ($\\AA$)\")\n",
    "# plt.xticks()\n",
    "# plt.ylabel(\"Error (kcal/mol)\")\n",
    "# plt.title(\"Variation of Error in total energy vs Lz for kcl200, BoxSize: 50 ($\\AA$)\")"
   ]
  },
  {
   "cell_type": "code",
   "execution_count": 198,
   "metadata": {},
   "outputs": [],
   "source": [
    "# plt.plot('Lz','Error(lammps)',data=newData50)\n",
    "# plt.grid()\n",
    "# plt.xlabel(\"Lz ($\\AA$)\")\n",
    "# plt.xticks()\n",
    "# plt.ylabel(\"Error (kcal/mol)\")\n",
    "# plt.title(\"Variation of Error(lammps) in total energy vs Lz for kcl200, BoxSize: 50 ($\\AA$)\")"
   ]
  },
  {
   "cell_type": "code",
   "execution_count": 199,
   "metadata": {},
   "outputs": [],
   "source": [
    "# plt.plot('Lz','Error',data=kcl200_35)\n",
    "# plt.grid()\n",
    "# plt.xlabel(\"Lz ($\\AA$)\")\n",
    "# plt.xticks()\n",
    "# plt.ylabel(\"Error (kcal/mol)\")\n",
    "# plt.title(\"Variation of Error in total energy vs Lz for kcl200, BoxSize: 35 ($\\AA$)\")"
   ]
  },
  {
   "cell_type": "code",
   "execution_count": 200,
   "metadata": {},
   "outputs": [],
   "source": [
    "# plt.plot('Lz','Error(cpp)',data=newData35)\n",
    "# plt.grid()\n",
    "# plt.xlabel(\"Lz ($\\AA$)\")\n",
    "# plt.xticks()\n",
    "# plt.ylabel(\"Error (kcal/mol)\")\n",
    "# plt.title(\"Variation of Error(cpp) in total energy vs Lz for kcl200, BoxSize: 35 ($\\AA$)\")"
   ]
  },
  {
   "cell_type": "code",
   "execution_count": 201,
   "metadata": {},
   "outputs": [],
   "source": [
    "# plt.plot('Lz','Error(lammps)',data=newData35)\n",
    "# plt.grid()\n",
    "# plt.xlabel(\"Lz ($\\AA$)\")\n",
    "# plt.xticks()\n",
    "# plt.ylabel(\"Error (kcal/mol)\")\n",
    "# plt.title(\"Variation of Error(lammps) in total energy vs Lz for kcl200, BoxSize: 35 ($\\AA$)\")\n",
    "\n",
    "# minvalue = min(newData35['Error(cpp)'])\n",
    "# temp = newData35[newData35['Error(cpp)']== minvalue]\n",
    "# Lz = temp['Error(cpp)']\n",
    "# print('Minimum Error:',minvalue, 'was achieved at',Lz)"
   ]
  }
 ],
 "metadata": {
  "kernelspec": {
   "display_name": "Python 3",
   "language": "python",
   "name": "python3"
  },
  "language_info": {
   "codemirror_mode": {
    "name": "ipython",
    "version": 3
   },
   "file_extension": ".py",
   "mimetype": "text/x-python",
   "name": "python",
   "nbconvert_exporter": "python",
   "pygments_lexer": "ipython3",
   "version": "3.6.15"
  }
 },
 "nbformat": 4,
 "nbformat_minor": 2
}
